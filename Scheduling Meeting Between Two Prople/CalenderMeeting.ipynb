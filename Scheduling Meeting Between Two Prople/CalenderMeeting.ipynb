{
  "nbformat": 4,
  "nbformat_minor": 0,
  "metadata": {
    "colab": {
      "name": "CalenderMeeting.ipynb",
      "provenance": [],
      "collapsed_sections": []
    },
    "kernelspec": {
      "name": "python3",
      "display_name": "Python 3"
    }
  },
  "cells": [
    {
      "cell_type": "markdown",
      "metadata": {
        "id": "yMDKietUQKjz"
      },
      "source": [
        "# **Calender Meeting**"
      ]
    },
    {
      "cell_type": "code",
      "metadata": {
        "id": "UtETb0QDC1b4"
      },
      "source": [
        "import datetime\n",
        "from datetime import  timedelta \n",
        "import time"
      ],
      "execution_count": 1,
      "outputs": []
    },
    {
      "cell_type": "code",
      "metadata": {
        "id": "Ti1U3JQuDAAr"
      },
      "source": [
        "## Inputs for Program\n",
        "MyCalender = [['9:00', '10:30'], ['12:00', '13:00'], ['16:00', '18:00']]\n",
        "MyWorkingHours = ['9:00', '20:00']\n",
        "CoWorkerCalender = [['10:00', '11:30'], ['12:30', '14:30'], ['14:30','15:00'], ['16:00', '17:00']]\n",
        "CoWorkerWorkingHours = ['10:00', '18:30']\n",
        "meetingDuration = 30"
      ],
      "execution_count": 2,
      "outputs": []
    },
    {
      "cell_type": "markdown",
      "metadata": {
        "id": "D2OteNU2QaCK"
      },
      "source": [
        "Converting strings to Datetime Format "
      ]
    },
    {
      "cell_type": "code",
      "metadata": {
        "id": "e1U8YGDgDAUw"
      },
      "source": [
        "def convert_to_string(WorkingHour):\n",
        "   \n",
        "    y=[]\n",
        "    for i in WorkingHour :\n",
        "      y.append(datetime.datetime.strptime(i, '%H:%M'))\n",
        "    return y\n",
        "\n",
        "def convert_list_of_time_string(CalenderHours):\n",
        "  \n",
        "    y=[]\n",
        "    for i in CalenderHours:\n",
        "        y.append([datetime.datetime.strptime(i[0], '%H:%M'), datetime.datetime.strptime(i[1], '%H:%M')] )\n",
        "    return y  "
      ],
      "execution_count": 3,
      "outputs": []
    },
    {
      "cell_type": "markdown",
      "metadata": {
        "id": "pPNmQyDXQdYn"
      },
      "source": [
        " Finding Common working times of both people "
      ]
    },
    {
      "cell_type": "code",
      "metadata": {
        "id": "Fd2Ir83iDAYD"
      },
      "source": [
        "def common_working_Times(MyWorkingHours,CoWorkerWorkingHours):\n",
        "    common_working_time=[]\n",
        "    common_working_time.append(max(MyWorkingHours[0],CoWorkerWorkingHours[0]))\n",
        "    common_working_time.append(min(CoWorkerWorkingHours[1],MyWorkingHours[1]))\n",
        "    return common_working_time"
      ],
      "execution_count": 4,
      "outputs": []
    },
    {
      "cell_type": "markdown",
      "metadata": {
        "id": "JJsLyetQQhTo"
      },
      "source": [
        "Creating 30 mins slots "
      ]
    },
    {
      "cell_type": "code",
      "metadata": {
        "id": "8VkiySldDAcr"
      },
      "source": [
        "def create_30_min_slots(x,meetingDuration):\n",
        "    mins30_slots=set()\n",
        "    temp=x[0]\n",
        "    while(temp<x[1]):\n",
        "        y=temp+  timedelta(minutes=meetingDuration )\n",
        "        mins30_slots.add((temp,y))\n",
        "        temp=y\n",
        "    return mins30_slots  \n",
        "\n",
        "def create_30_min_slots_merged(x,meetingDuration):\n",
        "    mins30_slots=set()\n",
        "    for i in x: \n",
        "       temp=i[0]\n",
        "       while(temp<i[1]):\n",
        "           y=temp+  timedelta(minutes=meetingDuration )\n",
        "           mins30_slots.add((temp,y))\n",
        "           temp=y\n",
        "    return mins30_slots    \n"
      ],
      "execution_count": 5,
      "outputs": []
    },
    {
      "cell_type": "markdown",
      "metadata": {
        "id": "ZmdK3m_JQ5Qs"
      },
      "source": [
        "Calling the functions"
      ]
    },
    {
      "cell_type": "code",
      "metadata": {
        "id": "k-YvU5dADAfY"
      },
      "source": [
        "# Calling the functions to convert both Calender and Working hours to time format\n",
        "CoWorkerWorkingHours=convert_to_string(CoWorkerWorkingHours)  \n",
        "MyWorkingHours=convert_to_string(MyWorkingHours) \n",
        "MyCalender=convert_list_of_time_string(MyCalender)\n",
        "CoWorkerCalender=convert_list_of_time_string(CoWorkerCalender)\n",
        "  \n",
        "# Calling the function to find both people common working hours\n",
        "common_working_time=common_working_Times(MyWorkingHours,CoWorkerWorkingHours)\n",
        "\n",
        "# Creating a set of 30 mins timeslots\n",
        "Commontimeslots=create_30_min_slots(common_working_time,meetingDuration)\n",
        "myCalenderTimeSlots=create_30_min_slots_merged(MyCalender,meetingDuration)\n",
        "CoworkerCalenderTimeslots=create_30_min_slots_merged(CoWorkerCalender,meetingDuration)"
      ],
      "execution_count": 6,
      "outputs": []
    },
    {
      "cell_type": "markdown",
      "metadata": {
        "id": "nxhG1gRiQ9Oy"
      },
      "source": [
        "# Using Set Operations (Union and Difference) to combine both people working slots and using diference to find the available slots"
      ]
    },
    {
      "cell_type": "code",
      "metadata": {
        "id": "BVw-MXG9Q60y"
      },
      "source": [
        "Both_people_calender_timeslots=myCalenderTimeSlots.union(CoworkerCalenderTimeslots)\n",
        "avail_slots =Commontimeslots.difference(Both_people_calender_timeslots)"
      ],
      "execution_count": null,
      "outputs": []
    },
    {
      "cell_type": "markdown",
      "metadata": {
        "id": "RfVTzHF9Qqlu"
      },
      "source": [
        "Converting the result to 24 Hour Format"
      ]
    },
    {
      "cell_type": "code",
      "metadata": {
        "colab": {
          "base_uri": "https://localhost:8080/"
        },
        "id": "tbsfXigPDAh1",
        "outputId": "e198bf6a-e8c6-4f16-a056-1bfe6cc3770b"
      },
      "source": [
        "available_slots=[]\n",
        "for i in avail_slots:\n",
        "    available_slots.append([i[0].strftime(\"%-H:%M\"),i[1].strftime(\"%-H:%M\")])\n",
        "\n",
        "# Printing the result  \n",
        "\n",
        "print(f'The avaiable slots for 30 minutes duration meeting are {available_slots}')"
      ],
      "execution_count": 7,
      "outputs": [
        {
          "output_type": "stream",
          "text": [
            "The avaiable slots for 30 minutes duration meeting are [['11:30', '12:00'], ['15:00', '15:30'], ['18:00', '18:30'], ['15:30', '16:00']]\n"
          ],
          "name": "stdout"
        }
      ]
    }
  ]
}